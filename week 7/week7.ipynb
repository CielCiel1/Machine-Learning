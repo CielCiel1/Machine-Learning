{
  "nbformat": 4,
  "nbformat_minor": 0,
  "metadata": {
    "colab": {
      "name": "ML HW.ipynb",
      "provenance": []
    },
    "kernelspec": {
      "name": "python3",
      "display_name": "Python 3"
    },
    "language_info": {
      "name": "python"
    }
  },
  "cells": [
    {
      "cell_type": "markdown",
      "metadata": {
        "id": "m4Z-5CyTy3w6"
      },
      "source": [
        "Tự biến đổi lại gini score, gini index và cách xây dựng cây decision tree\n",
        "Code hàm tìm ra ngưỡng chia tốt nhất cho 1 node với data sample\n",
        "\n",
        "Code hàm xây dựng model với data sample\n",
        "Vẽ decision boundary cho data sample với model trên\n",
        "Dùng code xây dựng model cho data, https://github.com/nttuan8/DL_Tutorial/blob/master/L2/dataset.csv, vẽ đường decision boundary tương ứng."
      ]
    },
    {
      "cell_type": "code",
      "metadata": {
        "id": "kkGryXA1DOvB"
      },
      "source": [
        "import numpy as np\n",
        "import pandas as pd\n",
        "import matplotlib.pyplot as plt\n",
        "import seaborn as sns"
      ],
      "execution_count": 1,
      "outputs": []
    },
    {
      "cell_type": "code",
      "metadata": {
        "colab": {
          "base_uri": "https://localhost:8080/",
          "height": 676
        },
        "id": "c_LMDQbZDRSe",
        "outputId": "13a8f4f3-c042-458a-d091-d832d94eef62"
      },
      "source": [
        "data = pd.read_csv('https://raw.githubusercontent.com/nttuan8/DL_Tutorial/master/L2/dataset.csv')\n",
        "name_replacement = {'Lương': 'salary', 'Thời gian làm việc': 'worktime', 'Cho vay': 'rented'}\n",
        "data = data.rename(columns = name_replacement)\n",
        "data"
      ],
      "execution_count": 2,
      "outputs": [
        {
          "output_type": "execute_result",
          "data": {
            "text/html": [
              "<div>\n",
              "<style scoped>\n",
              "    .dataframe tbody tr th:only-of-type {\n",
              "        vertical-align: middle;\n",
              "    }\n",
              "\n",
              "    .dataframe tbody tr th {\n",
              "        vertical-align: top;\n",
              "    }\n",
              "\n",
              "    .dataframe thead th {\n",
              "        text-align: right;\n",
              "    }\n",
              "</style>\n",
              "<table border=\"1\" class=\"dataframe\">\n",
              "  <thead>\n",
              "    <tr style=\"text-align: right;\">\n",
              "      <th></th>\n",
              "      <th>salary</th>\n",
              "      <th>worktime</th>\n",
              "      <th>rented</th>\n",
              "    </tr>\n",
              "  </thead>\n",
              "  <tbody>\n",
              "    <tr>\n",
              "      <th>0</th>\n",
              "      <td>10</td>\n",
              "      <td>1.00</td>\n",
              "      <td>1</td>\n",
              "    </tr>\n",
              "    <tr>\n",
              "      <th>1</th>\n",
              "      <td>5</td>\n",
              "      <td>2.00</td>\n",
              "      <td>1</td>\n",
              "    </tr>\n",
              "    <tr>\n",
              "      <th>2</th>\n",
              "      <td>6</td>\n",
              "      <td>1.80</td>\n",
              "      <td>1</td>\n",
              "    </tr>\n",
              "    <tr>\n",
              "      <th>3</th>\n",
              "      <td>7</td>\n",
              "      <td>1.00</td>\n",
              "      <td>1</td>\n",
              "    </tr>\n",
              "    <tr>\n",
              "      <th>4</th>\n",
              "      <td>8</td>\n",
              "      <td>2.00</td>\n",
              "      <td>1</td>\n",
              "    </tr>\n",
              "    <tr>\n",
              "      <th>5</th>\n",
              "      <td>9</td>\n",
              "      <td>0.50</td>\n",
              "      <td>1</td>\n",
              "    </tr>\n",
              "    <tr>\n",
              "      <th>6</th>\n",
              "      <td>4</td>\n",
              "      <td>3.00</td>\n",
              "      <td>1</td>\n",
              "    </tr>\n",
              "    <tr>\n",
              "      <th>7</th>\n",
              "      <td>5</td>\n",
              "      <td>2.50</td>\n",
              "      <td>1</td>\n",
              "    </tr>\n",
              "    <tr>\n",
              "      <th>8</th>\n",
              "      <td>8</td>\n",
              "      <td>1.00</td>\n",
              "      <td>1</td>\n",
              "    </tr>\n",
              "    <tr>\n",
              "      <th>9</th>\n",
              "      <td>4</td>\n",
              "      <td>2.50</td>\n",
              "      <td>1</td>\n",
              "    </tr>\n",
              "    <tr>\n",
              "      <th>10</th>\n",
              "      <td>8</td>\n",
              "      <td>0.10</td>\n",
              "      <td>0</td>\n",
              "    </tr>\n",
              "    <tr>\n",
              "      <th>11</th>\n",
              "      <td>7</td>\n",
              "      <td>0.15</td>\n",
              "      <td>0</td>\n",
              "    </tr>\n",
              "    <tr>\n",
              "      <th>12</th>\n",
              "      <td>4</td>\n",
              "      <td>1.00</td>\n",
              "      <td>0</td>\n",
              "    </tr>\n",
              "    <tr>\n",
              "      <th>13</th>\n",
              "      <td>5</td>\n",
              "      <td>0.80</td>\n",
              "      <td>0</td>\n",
              "    </tr>\n",
              "    <tr>\n",
              "      <th>14</th>\n",
              "      <td>7</td>\n",
              "      <td>0.30</td>\n",
              "      <td>0</td>\n",
              "    </tr>\n",
              "    <tr>\n",
              "      <th>15</th>\n",
              "      <td>4</td>\n",
              "      <td>1.00</td>\n",
              "      <td>0</td>\n",
              "    </tr>\n",
              "    <tr>\n",
              "      <th>16</th>\n",
              "      <td>5</td>\n",
              "      <td>0.50</td>\n",
              "      <td>0</td>\n",
              "    </tr>\n",
              "    <tr>\n",
              "      <th>17</th>\n",
              "      <td>6</td>\n",
              "      <td>0.30</td>\n",
              "      <td>0</td>\n",
              "    </tr>\n",
              "    <tr>\n",
              "      <th>18</th>\n",
              "      <td>7</td>\n",
              "      <td>0.20</td>\n",
              "      <td>0</td>\n",
              "    </tr>\n",
              "    <tr>\n",
              "      <th>19</th>\n",
              "      <td>8</td>\n",
              "      <td>0.15</td>\n",
              "      <td>0</td>\n",
              "    </tr>\n",
              "  </tbody>\n",
              "</table>\n",
              "</div>"
            ],
            "text/plain": [
              "    salary  worktime  rented\n",
              "0       10      1.00       1\n",
              "1        5      2.00       1\n",
              "2        6      1.80       1\n",
              "3        7      1.00       1\n",
              "4        8      2.00       1\n",
              "5        9      0.50       1\n",
              "6        4      3.00       1\n",
              "7        5      2.50       1\n",
              "8        8      1.00       1\n",
              "9        4      2.50       1\n",
              "10       8      0.10       0\n",
              "11       7      0.15       0\n",
              "12       4      1.00       0\n",
              "13       5      0.80       0\n",
              "14       7      0.30       0\n",
              "15       4      1.00       0\n",
              "16       5      0.50       0\n",
              "17       6      0.30       0\n",
              "18       7      0.20       0\n",
              "19       8      0.15       0"
            ]
          },
          "metadata": {},
          "execution_count": 2
        }
      ]
    },
    {
      "cell_type": "code",
      "metadata": {
        "colab": {
          "base_uri": "https://localhost:8080/",
          "height": 297
        },
        "id": "LsLhMSjJDoWz",
        "outputId": "9cbdc428-7bd5-4ebe-8ff4-54dd7b3a1cb2"
      },
      "source": [
        "rented = data[data['rented'] == 1]\n",
        "not_rented = data[data['rented'] == 0]\n",
        "\n",
        "fig, ax = plt.subplots()\n",
        "plt.scatter('salary', 'worktime', data=rented, c = 'b')\n",
        "plt.scatter('salary', 'worktime', data=not_rented,c = 'r')\n",
        "\n",
        "ax.set_xlabel('salary', fontweight ='bold')\n",
        "ax.set_ylabel('worktime', fontweight ='bold')"
      ],
      "execution_count": 3,
      "outputs": [
        {
          "output_type": "execute_result",
          "data": {
            "text/plain": [
              "Text(0, 0.5, 'worktime')"
            ]
          },
          "metadata": {},
          "execution_count": 3
        },
        {
          "output_type": "display_data",
          "data": {
            "image/png": "[encoded data removed]",
            "text/plain": [
              "<Figure size 432x288 with 1 Axes>"
            ]
          },
          "metadata": {
            "needs_background": "light"
          }
        }
      ]
    },
    {
      "cell_type": "code",
      "metadata": {
        "id": "dNx7AAeCHjzO"
      },
      "source": [
        "def gini(n1, n2):\n",
        "    if n1 + n2 == 0:\n",
        "        return 1\n",
        "    return 1 - (n1/(n1 + n2))**2 - (n2/(n1 + n2))**2"
      ],
      "execution_count": 4,
      "outputs": []
    },
    {
      "cell_type": "code",
      "metadata": {
        "colab": {
          "base_uri": "https://localhost:8080/"
        },
        "id": "ViRHfwW5ey0E",
        "outputId": "217332d1-4be3-40a2-a089-a1f56d4e8694"
      },
      "source": [
        "g1 = gini(10,10)\n",
        "g1"
      ],
      "execution_count": 5,
      "outputs": [
        {
          "output_type": "execute_result",
          "data": {
            "text/plain": [
              "0.5"
            ]
          },
          "metadata": {},
          "execution_count": 5
        }
      ]
    },
    {
      "cell_type": "code",
      "metadata": {
        "colab": {
          "base_uri": "https://localhost:8080/"
        },
        "id": "nALm76EniGPw",
        "outputId": "79d3dc62-7149-4483-9917-c8e548212af7"
      },
      "source": [
        "data_length = len(data)\n",
        "data_length"
      ],
      "execution_count": 8,
      "outputs": [
        {
          "output_type": "execute_result",
          "data": {
            "text/plain": [
              "20"
            ]
          },
          "metadata": {},
          "execution_count": 8
        }
      ]
    },
    {
      "cell_type": "code",
      "metadata": {
        "colab": {
          "base_uri": "https://localhost:8080/",
          "height": 350
        },
        "id": "EpRDisqFM7DF",
        "outputId": "4f48ffbc-1d06-4716-b697-1d6f20c6645d"
      },
      "source": [
        "stop = 1e-2\n",
        "result = {}\n",
        "\n",
        "for i in range (3, max(data.salary) + 1, 1):\n",
        "    salary_bigger_than_i = data[data['salary'] >= i]\n",
        "    salary_smaller_than_i = data[data['salary'] < i]\n",
        "\n",
        "    positive = len(salary_bigger_than_i)\n",
        "    rent = len(salary_bigger_than_i[salary_bigger_than_i['rented'] == 1])\n",
        "    not_rent = data_length - rent\n",
        "    positive_gini = gini(rent, not_rent)\n",
        "\n",
        "    negative = len(salary_smaller_than_i)\n",
        "    rent = len(salary_smaller_than_i[salary_smaller_than_i['rented'] == 1])\n",
        "    not_rent = data_length - rent\n",
        "    negative_gini = gini(rent, not_rent)\n",
        "\n",
        "    gini_score = positive * positive_gini / length_data + negative * negative_gini / length_data\n",
        "    print(g1)\n",
        "    print(gini_score)\n",
        "\n",
        "    result[f'{i}'] = g1 - gini_score  \n",
        "\n",
        "print(result)\n",
        "\n",
        "max_threshold = max(result, key=result.get)\n",
        "\n",
        "max_threshold"
      ],
      "execution_count": 9,
      "outputs": [
        {
          "output_type": "stream",
          "name": "stdout",
          "text": [
            "0.5\n",
            "0.5\n",
            "0.5\n",
            "0.5\n",
            "0.5\n",
            "0.42\n",
            "0.5\n",
            "0.38\n",
            "0.5\n",
            "0.375\n",
            "0.5\n",
            "0.39\n",
            "0.5\n",
            "0.45000000000000007\n",
            "0.5\n",
            "0.475\n",
            "{'3': 0.0, '4': 0.0, '5': 0.08000000000000002, '6': 0.12, '7': 0.125, '8': 0.10999999999999999, '9': 0.04999999999999993, '10': 0.025000000000000022}\n"
          ]
        },
        {
          "output_type": "execute_result",
          "data": {
            "application/vnd.google.colaboratory.intrinsic+json": {
              "type": "string"
            },
            "text/plain": [
              "'7'"
            ]
          },
          "metadata": {},
          "execution_count": 9
        }
      ]
    },
    {
      "cell_type": "code",
      "metadata": {
        "id": "7V94ixnb_-Na"
      },
      "source": [
        ""
      ],
      "execution_count": null,
      "outputs": []
    }
  ]
}